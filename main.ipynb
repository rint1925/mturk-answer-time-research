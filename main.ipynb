{
 "cells": [
  {
   "cell_type": "code",
   "execution_count": 1,
   "metadata": {},
   "outputs": [],
   "source": [
    "import sys\n",
    "import os\n",
    "import time\n",
    "import pickle\n",
    "from datetime import datetime, timedelta, timezone\n",
    "import boto3\n",
    "import pandas as pd\n",
    "\n",
    "from settings import Settings\n",
    "\n",
    "s = Settings()\n",
    "\n",
    "AWS_ACCESS_KEY_ID = s.key['AWS_ACCESS_KEY_ID']\n",
    "AWS_SECRET_ACCESS_KEY = s.key['AWS_SECRET_ACCESS_KEY']\n",
    "IS_SANDBOX = s.key['IS_SANDBOX']\n",
    "\n",
    "\n",
    "def get_client(id, key, is_sandbox):\n",
    "\n",
    "    if is_sandbox:\n",
    "        return boto3.client(\"mturk\",\n",
    "                            aws_access_key_id = id,         \n",
    "                            aws_secret_access_key = key,\n",
    "                            region_name = \"us-east-1\",\n",
    "                            endpoint_url = \"https://mturk-requester-sandbox.us-east-1.amazonaws.com\")\n",
    "    else:\n",
    "        return boto3.client(\"mturk\",\n",
    "                            aws_access_key_id = id,         \n",
    "                            aws_secret_access_key = key,\n",
    "                            region_name = \"us-east-1\",\n",
    "                            endpoint_url = \"https://mturk-requester.us-east-1.amazonaws.com\")\n",
    "\n",
    "\n",
    "\n",
    "def throw_a_hit(task_settings:dict):\n",
    "    print('Remaining Balance: '\n",
    "          +client.get_account_balance()['AvailableBalance'])\n",
    "    \n",
    "    if float(client.get_account_balance()['AvailableBalance']) <= 2:\n",
    "        sys.exit(\" ※Can't create a HIT!!!※\")\n",
    "\n",
    "    # create output directory\n",
    "    tz = timezone(timedelta(hours=+9), 'Asia/Tokyo')\n",
    "    dt = datetime.now(tz)\n",
    "    current_time = str(dt.strftime('%Y_%m%d_%H%M_%S')) # YYYY_MMDD_HHMM_SS\n",
    "    output_path = './Output/' + current_time\n",
    "    os.makedirs(output_path)\n",
    "\n",
    "\n",
    "    # hit creation\n",
    "    ts = task_settings\n",
    "    with open(\"./Tasks/\"+ts['TASK_FILENAME']) as f:\n",
    "        res = client.create_hit(\n",
    "            Title= ts['TASK_TITLE'],\n",
    "            Description=ts['DESCRIPTION'],\n",
    "            Keywords=ts['KEYWORDS'],    \n",
    "            Reward=ts['REWARD'],\n",
    "            MaxAssignments=ts['MAX_ASSIGNMENTS'],   \n",
    "            LifetimeInSeconds=ts['LIFETIME_IN_SECONDS'], \n",
    "            AssignmentDurationInSeconds=ts['ASSIGNMENT_DURATION_IN_SECONDS'], \n",
    "            AutoApprovalDelayInSeconds=ts['APPROVAL_DELAY_IN_SECONDS'],     \n",
    "            Question=f.read()\n",
    "        )\n",
    "\n",
    "    # verbose\n",
    "    print(' [CREATED A NEW HIT!]')\n",
    "    hit_id = res[\"HIT\"][\"HITId\"]\n",
    "    print(\" HIT ID:\", res[\"HIT\"][\"HITId\"])\n",
    "    print(\" Status Code:\", res[\"ResponseMetadata\"]['HTTPStatusCode'])\n",
    "    print(\" Creation Time:\", res[\"ResponseMetadata\"]['HTTPHeaders']['date'])\n",
    "\n",
    "\n",
    "\n",
    "    # check status of worker responses once every 10sec\n",
    "    columns = ['date','seconds_passed','N_Pending','N_Available','N_Finished','N_Completed']\n",
    "    data = pd.DataFrame(columns = columns)\n",
    "\n",
    "    for i in range(s.record['STATUS_CHECK_NUM']):\n",
    "        res = client.get_hit(HITId=hit_id)\n",
    "        n_pending = res['HIT']['NumberOfAssignmentsPending']\n",
    "        n_available = res['HIT']['NumberOfAssignmentsAvailable']\n",
    "        n_finished =  ts['MAX_ASSIGNMENTS'] - (n_pending + n_available)\n",
    "        n_completed = res['HIT']['NumberOfAssignmentsCompleted']\n",
    "        date = pd.to_datetime(res['ResponseMetadata']['HTTPHeaders']['date'])\n",
    "        dict = {'date':date,\n",
    "                'seconds_passed':int(i*s.record['STATUS_CHECK_INTERVAL']),\n",
    "                'N_Pending':n_pending,\n",
    "                'N_Available':n_available,\n",
    "                'N_Finished':n_finished,\n",
    "                'N_Completed':n_completed}\n",
    "        record = pd.DataFrame(dict.values(), index=dict.keys()).T\n",
    "        data = pd.concat([data,record],ignore_index=True)\n",
    "        print(' '+str(dict['seconds_passed'])+'s, '\n",
    "              +'Pending: '+str(dict['N_Pending'])\n",
    "              +', Finished: '+str(dict['N_Finished']))\n",
    "        time.sleep(s.record['STATUS_CHECK_INTERVAL'])\n",
    "\n",
    "    # Saving\n",
    "    data.to_csv(output_path+'/transition_data.csv')\n",
    "    with open(output_path+'/res_creation.json', 'wb') as fp:\n",
    "        pickle.dump(res,fp)\n",
    "    with open(output_path+'/task_config.json', 'wb') as fp:\n",
    "        pickle.dump(ts,fp)\n",
    "    with open(output_path+'/hit_details_final.json', 'wb') as fp:\n",
    "        pickle.dump(client.get_hit(HITId=hit_id),fp)\n",
    "    with open(output_path+'/list_assignments_for_hit.json', 'wb') as fp:\n",
    "        pickle.dump(client.list_assignments_for_hit(HITId=hit_id),fp)\n",
    "\n",
    "    return hit_id"
   ]
  },
  {
   "cell_type": "code",
   "execution_count": 2,
   "metadata": {},
   "outputs": [
    {
     "name": "stdout",
     "output_type": "stream",
     "text": [
      "Remaining Balance: 10000.00\n",
      " [CREATED A NEW HIT!]\n",
      " HIT ID: 3CKVGCS3QOTL03LW8E5NUQEWIEY0SF\n",
      " Status Code: 200\n",
      " Creation Time: Mon, 25 Apr 2022 02:11:53 GMT\n",
      " 0s, Pending: 0, Finished: 0\n",
      " 5s, Pending: 0, Finished: 0\n",
      " 10s, Pending: 0, Finished: 0\n",
      " 15s, Pending: 0, Finished: 0\n",
      " 20s, Pending: 0, Finished: 0\n",
      " 25s, Pending: 0, Finished: 0\n",
      " 30s, Pending: 0, Finished: 0\n",
      " 35s, Pending: 0, Finished: 0\n",
      " 40s, Pending: 0, Finished: 0\n",
      " 45s, Pending: 0, Finished: 0\n"
     ]
    }
   ],
   "source": [
    "if __name__ == '__main__':\n",
    "    client = get_client(AWS_ACCESS_KEY_ID, AWS_SECRET_ACCESS_KEY, IS_SANDBOX)\n",
    "    hit_id = throw_a_hit(s.task)"
   ]
  },
  {
   "cell_type": "code",
   "execution_count": 18,
   "metadata": {},
   "outputs": [],
   "source": [
    "# # Stop the current HIT\n",
    "# if __name__ == '__main__':\n",
    "#     res = client.update_expiration_for_hit(HITId=hit_id, ExpireAt=datetime(1,1,1))\n",
    "#     print(res[\"ResponseMetadata\"][\"HTTPStatusCode\"])"
   ]
  },
  {
   "cell_type": "code",
   "execution_count": 1,
   "metadata": {},
   "outputs": [
    {
     "name": "stdout",
     "output_type": "stream",
     "text": [
      "Saved!\n"
     ]
    }
   ],
   "source": [
    "#-------------------run-only-in-ipynb-environment-------------------------------\n",
    "\n",
    "# ※CAUTION※ Save this file before executing the following code!!!\n",
    "# Generate py from ipynb and save it automatically\n",
    "\n",
    "if 'get_ipython' in globals():\n",
    "    import subprocess\n",
    "    subprocess.run(['jupyter', 'nbconvert', '--to', 'python', '*.ipynb'])\n",
    "    print('Saved!')\n",
    "# End of if 'if 'get_ipython' in globals():'\n",
    "\n",
    "#-------------------run-only-in-ipynb-environment-------------------------------"
   ]
  }
 ],
 "metadata": {
  "interpreter": {
   "hash": "3199e6b8b4f4420195945e6459802eb9835087287e65403d4672cdf7145c8ef5"
  },
  "kernelspec": {
   "display_name": "Python 3.7.0 64-bit ('base': conda)",
   "name": "python3"
  },
  "language_info": {
   "codemirror_mode": {
    "name": "ipython",
    "version": 3
   },
   "file_extension": ".py",
   "mimetype": "text/x-python",
   "name": "python",
   "nbconvert_exporter": "python",
   "pygments_lexer": "ipython3",
   "version": "3.9.10"
  },
  "orig_nbformat": 4
 },
 "nbformat": 4,
 "nbformat_minor": 2
}
